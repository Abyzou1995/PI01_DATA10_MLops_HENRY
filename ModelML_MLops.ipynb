{
 "cells": [
  {
   "attachments": {},
   "cell_type": "markdown",
   "metadata": {},
   "source": [
    "## RECOMENDATION SYSTEM : MACHINE LEARNING DEVELOPMENT"
   ]
  },
  {
   "attachments": {},
   "cell_type": "markdown",
   "metadata": {},
   "source": [
    "#### Import needed libraries"
   ]
  },
  {
   "cell_type": "code",
   "execution_count": 216,
   "metadata": {},
   "outputs": [],
   "source": [
    "import pandas as pd\n",
    "from sklearn.feature_extraction.text import TfidfVectorizer\n",
    "from sklearn.feature_extraction.text import CountVectorizer\n",
    "from sklearn.metrics.pairwise import linear_kernel\n",
    "import unicodedata\n",
    "from ast import literal_eval"
   ]
  },
  {
   "attachments": {},
   "cell_type": "markdown",
   "metadata": {},
   "source": [
    "#### Load dataset after EDA analysis"
   ]
  },
  {
   "cell_type": "code",
   "execution_count": 259,
   "metadata": {},
   "outputs": [],
   "source": [
    "df=pd.read_csv(\"Dataset_ML/Dataset_ML_function.csv\")"
   ]
  },
  {
   "attachments": {},
   "cell_type": "markdown",
   "metadata": {},
   "source": [
    "#### Setting features for ML training data"
   ]
  },
  {
   "cell_type": "code",
   "execution_count": 260,
   "metadata": {},
   "outputs": [],
   "source": [
    "df.title=df.title.str.lower()## Normalize title to lowercase\n",
    "df.genres=df.genres.str.replace(\" \",\"\")##Removing blank spaces\n",
    "df.genres=df.genres.apply(literal_eval)## Setting correct datatype in column genres\n",
    "df[\"features\"]=df.genres"
   ]
  },
  {
   "attachments": {},
   "cell_type": "markdown",
   "metadata": {},
   "source": [
    "#### Getting a alphabet soup"
   ]
  },
  {
   "cell_type": "code",
   "execution_count": null,
   "metadata": {},
   "outputs": [],
   "source": [
    "for i in range(df.shape[0]):\n",
    "    df.genres.iloc[i]=\" \".join(df.genres.iloc[i])## Joining elements from genres list\n",
    "for i in range(df.shape[0]):\n",
    "    df.features.iloc[i]=df.genres.iloc[i]+\" \"+df.overview.iloc[i]## Joining elements from genres list and overview"
   ]
  },
  {
   "cell_type": "code",
   "execution_count": 262,
   "metadata": {},
   "outputs": [],
   "source": [
    "df = df.sort_values(\"popularity\", ascending=False)## Priority by popularity.. due an computational cost if whole dataset is used in ML model\n",
    "df.drop([\"genres\",\"overview\",\"popularity\"],inplace=True,axis=1)## Remove columns which wont be used in ML model\n",
    "df.features=df.features.str.lower()\n",
    "df.reset_index(drop=True,inplace=True)## Normalize lower case features and reset index"
   ]
  },
  {
   "attachments": {},
   "cell_type": "markdown",
   "metadata": {},
   "source": [
    "#### Dataset view"
   ]
  },
  {
   "cell_type": "code",
   "execution_count": 231,
   "metadata": {},
   "outputs": [
    {
     "data": {
      "text/html": [
       "<div>\n",
       "<style scoped>\n",
       "    .dataframe tbody tr th:only-of-type {\n",
       "        vertical-align: middle;\n",
       "    }\n",
       "\n",
       "    .dataframe tbody tr th {\n",
       "        vertical-align: top;\n",
       "    }\n",
       "\n",
       "    .dataframe thead th {\n",
       "        text-align: right;\n",
       "    }\n",
       "</style>\n",
       "<table border=\"1\" class=\"dataframe\">\n",
       "  <thead>\n",
       "    <tr style=\"text-align: right;\">\n",
       "      <th></th>\n",
       "      <th>title</th>\n",
       "      <th>features</th>\n",
       "    </tr>\n",
       "  </thead>\n",
       "  <tbody>\n",
       "    <tr>\n",
       "      <th>0</th>\n",
       "      <td>minions</td>\n",
       "      <td>despicable me collection family animation adve...</td>\n",
       "    </tr>\n",
       "    <tr>\n",
       "      <th>1</th>\n",
       "      <td>baby driver</td>\n",
       "      <td>action crime after being coerced into working...</td>\n",
       "    </tr>\n",
       "    <tr>\n",
       "      <th>2</th>\n",
       "      <td>big hero 6</td>\n",
       "      <td>adventure family animation action comedy the ...</td>\n",
       "    </tr>\n",
       "    <tr>\n",
       "      <th>3</th>\n",
       "      <td>deadpool</td>\n",
       "      <td>deadpool collection action adventure comedy de...</td>\n",
       "    </tr>\n",
       "    <tr>\n",
       "      <th>4</th>\n",
       "      <td>guardians of the galaxy vol. 2</td>\n",
       "      <td>guardians of the galaxy collection action adve...</td>\n",
       "    </tr>\n",
       "    <tr>\n",
       "      <th>...</th>\n",
       "      <td>...</td>\n",
       "      <td>...</td>\n",
       "    </tr>\n",
       "    <tr>\n",
       "      <th>39304</th>\n",
       "      <td>terror</td>\n",
       "      <td>horror dr. vishal, a mad scientist, turns int...</td>\n",
       "    </tr>\n",
       "    <tr>\n",
       "      <th>39305</th>\n",
       "      <td>altar of fire</td>\n",
       "      <td>documentary this film records a 12 day ritual...</td>\n",
       "    </tr>\n",
       "    <tr>\n",
       "      <th>39306</th>\n",
       "      <td>casual relations</td>\n",
       "      <td>drama in rappaportâ€™s dazzling and bizarre f...</td>\n",
       "    </tr>\n",
       "    <tr>\n",
       "      <th>39307</th>\n",
       "      <td>narrien illat</td>\n",
       "      <td>comedy drama music the ups and downs of the p...</td>\n",
       "    </tr>\n",
       "    <tr>\n",
       "      <th>39308</th>\n",
       "      <td>kiljusen herrasvã¤ki</td>\n",
       "      <td>comedy a finnish comedy based on the books of...</td>\n",
       "    </tr>\n",
       "  </tbody>\n",
       "</table>\n",
       "<p>39309 rows × 2 columns</p>\n",
       "</div>"
      ],
      "text/plain": [
       "                                title  \\\n",
       "0                             minions   \n",
       "1                         baby driver   \n",
       "2                          big hero 6   \n",
       "3                            deadpool   \n",
       "4      guardians of the galaxy vol. 2   \n",
       "...                               ...   \n",
       "39304                          terror   \n",
       "39305                   altar of fire   \n",
       "39306                casual relations   \n",
       "39307                   narrien illat   \n",
       "39308            kiljusen herrasvã¤ki   \n",
       "\n",
       "                                                features  \n",
       "0      despicable me collection family animation adve...  \n",
       "1       action crime after being coerced into working...  \n",
       "2       adventure family animation action comedy the ...  \n",
       "3      deadpool collection action adventure comedy de...  \n",
       "4      guardians of the galaxy collection action adve...  \n",
       "...                                                  ...  \n",
       "39304   horror dr. vishal, a mad scientist, turns int...  \n",
       "39305   documentary this film records a 12 day ritual...  \n",
       "39306   drama in rappaportâ€™s dazzling and bizarre f...  \n",
       "39307   comedy drama music the ups and downs of the p...  \n",
       "39308   comedy a finnish comedy based on the books of...  \n",
       "\n",
       "[39309 rows x 2 columns]"
      ]
     },
     "execution_count": 231,
     "metadata": {},
     "output_type": "execute_result"
    }
   ],
   "source": [
    "df"
   ]
  },
  {
   "attachments": {},
   "cell_type": "markdown",
   "metadata": {},
   "source": [
    "#### Export dataset for ML training data"
   ]
  },
  {
   "cell_type": "code",
   "execution_count": 263,
   "metadata": {},
   "outputs": [],
   "source": [
    "df.to_csv(\"Dataset_API/API7.csv\",index=False)"
   ]
  },
  {
   "attachments": {},
   "cell_type": "markdown",
   "metadata": {},
   "source": [
    "### ML model development"
   ]
  },
  {
   "attachments": {},
   "cell_type": "markdown",
   "metadata": {},
   "source": [
    "#### Machine learning is often used in text analysis and TF-IDF helps in the categorization of data as well as the extraction of keywords. TF-IDF gives a solid grasp of essential words by Shubham Shankar."
   ]
  },
  {
   "cell_type": "code",
   "execution_count": 264,
   "metadata": {},
   "outputs": [],
   "source": [
    "df=pd.read_csv(\"Dataset_API/API7.csv\")## Load dataset\n",
    "ml = df.head(10000)## Use a sample due to excesive computational cost if whole dataset is used\n",
    "ml.reset_index(inplace=True, drop=True)\n",
    "ml.reset_index(inplace=True)## reset index\n"
   ]
  },
  {
   "cell_type": "code",
   "execution_count": 266,
   "metadata": {},
   "outputs": [],
   "source": [
    "indices = ml[[\"title\", \"index\"]]## Getting a dataset for finding new index\n",
    "tfidf=TfidfVectorizer(stop_words=\"english\",max_features=10000)## Setting tf-idf vector\n",
    "tfidf_matrix=tfidf.fit_transform(ml[\"features\"])## Setting tf-idf vectorizer with data\n",
    "cosine_sim=linear_kernel(tfidf_matrix,tfidf_matrix)## Training model with the given data\n",
    " "
   ]
  },
  {
   "attachments": {},
   "cell_type": "markdown",
   "metadata": {},
   "source": [
    "#### API function ML model"
   ]
  },
  {
   "cell_type": "code",
   "execution_count": 271,
   "metadata": {},
   "outputs": [],
   "source": [
    "def recomendacion(titulo):  # API function ML\n",
    "    titulo = titulo.lower().strip()  # parameter string to lower\n",
    "    titulo = unicodedata.normalize('NFKD', titulo).encode(\n",
    "        'ascii', 'ignore').decode('utf-8', 'ignore')## Filter accent mark\n",
    "    idx = indices[indices[\"title\"]==titulo]## filter dataset with the parameter\n",
    "    if idx.empty== True:## condition if dataset is empty\n",
    "        recommendations=[\"No data available\"]\n",
    "    else:\n",
    "        idy = idx[\"index\"].iloc[0]## Search index\n",
    "        sim_score = list(enumerate(cosine_sim[idy]))## Setting similarity\n",
    "        sim_score = sorted(sim_score, key=lambda x: x[1], reverse=True)## Sorting results by score\n",
    "        sim_score = sim_score[1:6]## Getting top score 5 movies\n",
    "        movies_index = [i[0] for i in sim_score] ## Finding names\n",
    "        recommendations = list(ml['title'].iloc[movies_index].str.title())## Making the list\n",
    "    return {'titulo':titulo,'lista recomendada': recommendations}\n"
   ]
  },
  {
   "cell_type": "code",
   "execution_count": 272,
   "metadata": {},
   "outputs": [
    {
     "data": {
      "text/plain": [
       "{'titulo': 'toy story',\n",
       " 'lista recomendada': ['Toy Story 3',\n",
       "  'Toy Story 2',\n",
       "  'The 40 Year Old Virgin',\n",
       "  'Small Fry',\n",
       "  'Man On The Moon']}"
      ]
     },
     "execution_count": 272,
     "metadata": {},
     "output_type": "execute_result"
    }
   ],
   "source": [
    "recomendacion(\"toy story\")  # testing functionality with an argument\n"
   ]
  }
 ],
 "metadata": {
  "kernelspec": {
   "display_name": "Lab",
   "language": "python",
   "name": "python3"
  },
  "language_info": {
   "codemirror_mode": {
    "name": "ipython",
    "version": 3
   },
   "file_extension": ".py",
   "mimetype": "text/x-python",
   "name": "python",
   "nbconvert_exporter": "python",
   "pygments_lexer": "ipython3",
   "version": "3.10.11"
  },
  "orig_nbformat": 4
 },
 "nbformat": 4,
 "nbformat_minor": 2
}
